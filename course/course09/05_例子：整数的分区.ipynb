{
 "cells": [
  {
   "cell_type": "markdown",
   "metadata": {},
   "source": [
    "# Counting Partitions\n",
    "把一个整数拆分成各种各样的分区  \n",
    "![Alt text](image-4.png)"
   ]
  },
  {
   "cell_type": "code",
   "execution_count": 5,
   "metadata": {},
   "outputs": [
    {
     "data": {
      "text/plain": [
       "9"
      ]
     },
     "execution_count": 5,
     "metadata": {},
     "output_type": "execute_result"
    }
   ],
   "source": [
    "count = 0\n",
    "\n",
    "\n",
    "def count_partitions(n, m):\n",
    "    count = 0\n",
    "    if n == 0:  # 结束条件\n",
    "        return 1\n",
    "    elif n < 0:  # 非法情况\n",
    "        return 0\n",
    "    elif m == 0:  # 非法情况\n",
    "        return 0\n",
    "    else:\n",
    "        return count_partitions(n - m, m) + count_partitions(n, m - 1)  # 迭代等式\n",
    "\n",
    "\n",
    "count_partitions(6, 4)"
   ]
  },
  {
   "cell_type": "code",
   "execution_count": null,
   "metadata": {},
   "outputs": [],
   "source": []
  }
 ],
 "metadata": {
  "kernelspec": {
   "display_name": "Python 3",
   "language": "python",
   "name": "python3"
  },
  "language_info": {
   "codemirror_mode": {
    "name": "ipython",
    "version": 3
   },
   "file_extension": ".py",
   "mimetype": "text/x-python",
   "name": "python",
   "nbconvert_exporter": "python",
   "pygments_lexer": "ipython3",
   "version": "3.10.12"
  },
  "orig_nbformat": 4
 },
 "nbformat": 4,
 "nbformat_minor": 2
}
